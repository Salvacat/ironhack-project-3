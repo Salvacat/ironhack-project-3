{
 "cells": [
  {
   "metadata": {
    "id": "920f5f1493c5b897"
   },
   "cell_type": "markdown",
   "source": [
    "# Ironhack Project NLP\n",
    "\n",
    "Team 4 (Salva, Diego, Fabi)"
   ],
   "id": "920f5f1493c5b897"
  },
  {
   "cell_type": "markdown",
   "source": [
    "## Imports\n",
    "\n",
    "Import only needed libaries"
   ],
   "metadata": {
    "id": "oj5MkP5199Lp"
   },
   "id": "oj5MkP5199Lp"
  },
  {
   "cell_type": "code",
   "id": "7a3c3d61fc0e6e04",
   "metadata": {
    "id": "7a3c3d61fc0e6e04",
    "executionInfo": {
     "status": "ok",
     "timestamp": 1727969138197,
     "user_tz": -120,
     "elapsed": 406,
     "user": {
      "displayName": "Fabian Hieber",
      "userId": "06681858431281640040"
     }
    },
    "ExecuteTime": {
     "end_time": "2024-10-02T21:49:23.017091Z",
     "start_time": "2024-10-02T21:49:22.999896Z"
    }
   },
   "source": [
    "import re\n",
    "import numpy as np\n",
    "import pandas as pd\n",
    "import matplotlib.pyplot as plt\n",
    "from sklearn.feature_extraction.text import TfidfVectorizer\n",
    "from sklearn.model_selection import train_test_split, cross_val_score\n",
    "from sklearn.linear_model import LogisticRegression\n",
    "from sklearn.metrics import ConfusionMatrixDisplay, accuracy_score, classification_report, confusion_matrix, f1_score\n",
    "from IPython.display import Markdown, display\n",
    "\n",
    "%matplotlib inline"
   ],
   "outputs": [],
   "execution_count": 280
  },
  {
   "metadata": {
    "id": "2c77ddf5926c253b"
   },
   "cell_type": "markdown",
   "source": [
    "## Preparations"
   ],
   "id": "2c77ddf5926c253b"
  },
  {
   "cell_type": "markdown",
   "source": [
    "### Constants\n",
    "\n",
    "Make classes readable"
   ],
   "metadata": {
    "id": "JX7w4Zuyxceb"
   },
   "id": "JX7w4Zuyxceb"
  },
  {
   "cell_type": "code",
   "source": [
    "CLASSES = {\"0\": \"Fake news\", \"1\": \"Real news\"}"
   ],
   "metadata": {
    "id": "xNxMAefnxfRF",
    "executionInfo": {
     "status": "ok",
     "timestamp": 1727969139098,
     "user_tz": -120,
     "elapsed": 11,
     "user": {
      "displayName": "Fabian Hieber",
      "userId": "06681858431281640040"
     }
    },
    "ExecuteTime": {
     "end_time": "2024-10-02T21:49:23.203131Z",
     "start_time": "2024-10-02T21:49:23.189781Z"
    }
   },
   "id": "xNxMAefnxfRF",
   "outputs": [],
   "execution_count": 281
  },
  {
   "metadata": {
    "id": "112732e40ae9fc7d"
   },
   "cell_type": "markdown",
   "source": [
    "### Functions"
   ],
   "id": "112732e40ae9fc7d"
  },
  {
   "cell_type": "markdown",
   "source": [
    "#### Pre Processing\n",
    "\n",
    "Helper methods to clean up the texts"
   ],
   "metadata": {
    "id": "iAVCRJQLtxfC"
   },
   "id": "iAVCRJQLtxfC"
  },
  {
   "metadata": {
    "id": "b352373604e6a2c0",
    "executionInfo": {
     "status": "ok",
     "timestamp": 1727969139098,
     "user_tz": -120,
     "elapsed": 10,
     "user": {
      "displayName": "Fabian Hieber",
      "userId": "06681858431281640040"
     }
    },
    "ExecuteTime": {
     "end_time": "2024-10-02T21:49:23.327636Z",
     "start_time": "2024-10-02T21:49:23.313292Z"
    }
   },
   "cell_type": "code",
   "source": [
    "def clean_text(text):\n",
    "    \"\"\"\n",
    "    Remove numbers and extra spaces from text\n",
    "\n",
    "    Args:\n",
    "        text(string): The text to be cleaned.\n",
    "\n",
    "    Returns:\n",
    "        string: The cleaned text.\n",
    "    \"\"\"\n",
    "\n",
    "    text = re.sub(r'\\d+', '', text)  # Remove numbers\n",
    "    text = re.sub(r'\\s+', ' ', text)  # replace multiple spaces with just 1\n",
    "    return text"
   ],
   "id": "b352373604e6a2c0",
   "outputs": [],
   "execution_count": 282
  },
  {
   "cell_type": "markdown",
   "source": [
    "#### Evaluating\n",
    "\n",
    "Helper Methods to evaluate the result of the trained model"
   ],
   "metadata": {
    "id": "o2g8wkl9ixwg"
   },
   "id": "o2g8wkl9ixwg"
  },
  {
   "cell_type": "code",
   "source": [
    "def accuracy(y_test, y_pred):\n",
    "    \"\"\"\n",
    "    Calculate and print the accuracy score.\n",
    "\n",
    "    Args:\n",
    "        y_test(pandas.core.series.Series): The true labels.\n",
    "        y_pred(numpy.ndarray): The predicted labels.\n",
    "\n",
    "    Returns:\n",
    "        None. Prints the accuracy score.\n",
    "    \"\"\"\n",
    "\n",
    "    display(Markdown('**Accuracy**'))\n",
    "\n",
    "    accuracy = accuracy_score(y_test, y_pred)\n",
    "    print(f\"{accuracy:.4}\")"
   ],
   "metadata": {
    "id": "fHVqKS3UkQ5e",
    "executionInfo": {
     "status": "ok",
     "timestamp": 1727969139098,
     "user_tz": -120,
     "elapsed": 10,
     "user": {
      "displayName": "Fabian Hieber",
      "userId": "06681858431281640040"
     }
    },
    "ExecuteTime": {
     "end_time": "2024-10-02T21:49:23.374038Z",
     "start_time": "2024-10-02T21:49:23.359922Z"
    }
   },
   "id": "fHVqKS3UkQ5e",
   "outputs": [],
   "execution_count": 283
  },
  {
   "cell_type": "code",
   "source": [
    "def f1(y_test, y_pred):\n",
    "    \"\"\"\n",
    "    Calculate and print the accuracy score.\n",
    "\n",
    "    Args:\n",
    "        y_test(pandas.core.series.Series): The true labels.\n",
    "        y_pred(numpy.ndarray): The predicted labels.\n",
    "\n",
    "    Returns:\n",
    "        None. Prints the f1 score.\n",
    "    \"\"\"\n",
    "\n",
    "    display(Markdown('**F1-Score**'))\n",
    "\n",
    "    f1_score_per_class = f1_score(y_test, y_pred)\n",
    "    print(f\"{f1_score_per_class:.4}\")"
   ],
   "metadata": {
    "id": "LCa64T6vvskX",
    "executionInfo": {
     "status": "ok",
     "timestamp": 1727969139098,
     "user_tz": -120,
     "elapsed": 9,
     "user": {
      "displayName": "Fabian Hieber",
      "userId": "06681858431281640040"
     }
    }
   },
   "id": "LCa64T6vvskX",
   "execution_count": 284,
   "outputs": []
  },
  {
   "cell_type": "code",
   "source": [
    "def classification(y_test, y_pred):\n",
    "    \"\"\"\n",
    "    Generate and display the classification report.\n",
    "\n",
    "    Args:\n",
    "        y_test(pandas.core.series.Series): The true labels.\n",
    "        y_pred(numpy.ndarray): The predicted labels.\n",
    "\n",
    "    Returns:\n",
    "        None. Displays the classification report.\n",
    "    \"\"\"\n",
    "\n",
    "    display(Markdown('**Classification Report**'))\n",
    "\n",
    "    report = classification_report(y_test, y_pred, output_dict=True, target_names=[CLASSES['0'], CLASSES['1']])\n",
    "    df = pd.DataFrame(report).transpose()\n",
    "    df = df.map(lambda x: f\"{x:.2f}\" if isinstance(x, (int, float)) else x)\n",
    "    display(df)"
   ],
   "metadata": {
    "id": "mD5wTb6jkY7Z",
    "executionInfo": {
     "status": "ok",
     "timestamp": 1727969139099,
     "user_tz": -120,
     "elapsed": 10,
     "user": {
      "displayName": "Fabian Hieber",
      "userId": "06681858431281640040"
     }
    },
    "ExecuteTime": {
     "end_time": "2024-10-02T21:49:23.404589Z",
     "start_time": "2024-10-02T21:49:23.391582Z"
    }
   },
   "id": "mD5wTb6jkY7Z",
   "outputs": [],
   "execution_count": 285
  },
  {
   "cell_type": "code",
   "source": [
    "def confus_matrix(y_test, y_pred):\n",
    "    \"\"\"\n",
    "    Generate and display the confusion matrix.\n",
    "\n",
    "    Args:\n",
    "        y_test(pandas.core.series.Series): The true labels.\n",
    "        y_pred(numpy.ndarray): The predicted labels.\n",
    "\n",
    "    Returns:\n",
    "        None. Displays the confusion matrix.\n",
    "    \"\"\"\n",
    "\n",
    "    display(Markdown('**Confusion Matrix**'))\n",
    "\n",
    "    cm = confusion_matrix(y_test, y_pred)\n",
    "    disp = ConfusionMatrixDisplay(confusion_matrix=cm, display_labels=[CLASSES['0'], CLASSES['1']])\n",
    "    disp.plot(cmap='Greens')\n",
    "    disp.ax_.set(xlabel='Predicted Values', ylabel='Actual Values')\n",
    "    plt.show()\n"
   ],
   "metadata": {
    "id": "tK3lnmZlkjOt",
    "executionInfo": {
     "status": "ok",
     "timestamp": 1727969139099,
     "user_tz": -120,
     "elapsed": 9,
     "user": {
      "displayName": "Fabian Hieber",
      "userId": "06681858431281640040"
     }
    },
    "ExecuteTime": {
     "end_time": "2024-10-02T21:49:23.436641Z",
     "start_time": "2024-10-02T21:49:23.423108Z"
    }
   },
   "id": "tK3lnmZlkjOt",
   "outputs": [],
   "execution_count": 286
  },
  {
   "metadata": {
    "id": "d3e7e34c02166c2d"
   },
   "cell_type": "markdown",
   "source": [
    "### Import Data\n",
    "\n",
    "Loads the labeled text data from a tab-separated file named \"training_data_lowercase.csv\" into a Pandas DataFrame."
   ],
   "id": "d3e7e34c02166c2d"
  },
  {
   "metadata": {
    "collapsed": true,
    "id": "initial_id",
    "executionInfo": {
     "status": "ok",
     "timestamp": 1727969139099,
     "user_tz": -120,
     "elapsed": 9,
     "user": {
      "displayName": "Fabian Hieber",
      "userId": "06681858431281640040"
     }
    },
    "ExecuteTime": {
     "end_time": "2024-10-02T21:49:23.545171Z",
     "start_time": "2024-10-02T21:49:23.484978Z"
    }
   },
   "cell_type": "code",
   "source": [
    "data = pd.read_csv('training_data_lowercase.csv', sep='\\t', header=None, names=['class', 'text'])"
   ],
   "id": "initial_id",
   "outputs": [],
   "execution_count": 287
  },
  {
   "cell_type": "markdown",
   "source": [
    "### Pre Process Data\n",
    "\n",
    "Apply a text cleanup"
   ],
   "metadata": {
    "id": "9U6aEy6KubgY"
   },
   "id": "9U6aEy6KubgY"
  },
  {
   "cell_type": "code",
   "source": [
    "data['text'] = data['text'].apply(clean_text)"
   ],
   "metadata": {
    "id": "5bUZEeUfuqhi",
    "executionInfo": {
     "status": "ok",
     "timestamp": 1727969139582,
     "user_tz": -120,
     "elapsed": 491,
     "user": {
      "displayName": "Fabian Hieber",
      "userId": "06681858431281640040"
     }
    }
   },
   "id": "5bUZEeUfuqhi",
   "execution_count": 288,
   "outputs": []
  },
  {
   "cell_type": "markdown",
   "source": [
    "## Model\n",
    "\n",
    "Using a LogisticRegression with TF-IDF vectorized text data, the model is trained to classify text as \"Machine translated\" or \"Professional translated\"."
   ],
   "metadata": {
    "id": "CYJ91i0icDDu"
   },
   "id": "CYJ91i0icDDu"
  },
  {
   "metadata": {
    "ExecuteTime": {
     "end_time": "2024-10-02T21:49:42.645233Z",
     "start_time": "2024-10-02T21:49:28.940082Z"
    },
    "id": "e3aafb3065bb9886",
    "executionInfo": {
     "status": "ok",
     "timestamp": 1727969139582,
     "user_tz": -120,
     "elapsed": 8,
     "user": {
      "displayName": "Fabian Hieber",
      "userId": "06681858431281640040"
     }
    }
   },
   "cell_type": "code",
   "source": [
    "model = LogisticRegression(solver='liblinear')\n",
    "vectorized = TfidfVectorizer(max_features=3200).fit_transform(data['text'])\n",
    "\n",
    "X_train, X_test, y_train, y_test = train_test_split(vectorized, data['class'], test_size=0.3, random_state=42)\n",
    "\n",
    "model.fit(X_train, y_train)\n",
    "\n",
    "y_pred = model.predict(X_test)"
   ],
   "id": "e3aafb3065bb9886",
   "outputs": [],
   "execution_count": 289
  },
  {
   "cell_type": "markdown",
   "source": [
    "## Evaluation\n",
    "\n",
    "The trained model is then evaluated using metrics like cross validation score, accuracy and F1-score, along with a confusion matrix and classification report."
   ],
   "metadata": {
    "id": "eCOwiZSLxETQ"
   },
   "id": "eCOwiZSLxETQ"
  },
  {
   "cell_type": "code",
   "source": [
    "display(Markdown('**Cross Validation Score**'))\n",
    "print(round(np.mean(cross_val_score(model, vectorized, data['class'], cv=5)), 4))\n",
    "print(\"\")\n",
    "\n",
    "accuracy(y_test, y_pred)\n",
    "print(\"\")\n",
    "\n",
    "f1(y_test, y_pred)\n",
    "print(\"\")\n",
    "\n",
    "confus_matrix(y_test, y_pred)\n",
    "print(\"\")\n",
    "\n",
    "classification(y_test, y_pred)"
   ],
   "metadata": {
    "colab": {
     "base_uri": "https://localhost:8080/",
     "height": 906
    },
    "id": "sPmTzIrbxHyn",
    "executionInfo": {
     "status": "ok",
     "timestamp": 1727969140700,
     "user_tz": -120,
     "elapsed": 1125,
     "user": {
      "displayName": "Fabian Hieber",
      "userId": "06681858431281640040"
     }
    },
    "outputId": "58f487b5-6a8c-4140-d70c-3bf526b84146"
   },
   "id": "sPmTzIrbxHyn",
   "execution_count": 290,
   "outputs": [
    {
     "output_type": "display_data",
     "data": {
      "text/plain": [
       "<IPython.core.display.Markdown object>"
      ],
      "text/markdown": "**Cross Validation Score**"
     },
     "metadata": {}
    },
    {
     "output_type": "stream",
     "name": "stdout",
     "text": [
      "0.9152\n",
      "\n"
     ]
    },
    {
     "output_type": "display_data",
     "data": {
      "text/plain": [
       "<IPython.core.display.Markdown object>"
      ],
      "text/markdown": "**Accuracy**"
     },
     "metadata": {}
    },
    {
     "output_type": "stream",
     "name": "stdout",
     "text": [
      "0.9413\n",
      "\n"
     ]
    },
    {
     "output_type": "display_data",
     "data": {
      "text/plain": [
       "<IPython.core.display.Markdown object>"
      ],
      "text/markdown": "**F1-Score**"
     },
     "metadata": {}
    },
    {
     "output_type": "stream",
     "name": "stdout",
     "text": [
      "0.94\n",
      "\n"
     ]
    },
    {
     "output_type": "display_data",
     "data": {
      "text/plain": [
       "<IPython.core.display.Markdown object>"
      ],
      "text/markdown": "**Confusion Matrix**"
     },
     "metadata": {}
    },
    {
     "output_type": "display_data",
     "data": {
      "text/plain": [
       "<Figure size 640x480 with 2 Axes>"
      ],
      "image/png": "[encoded data removed]"
     },
     "metadata": {}
    },
    {
     "output_type": "stream",
     "name": "stdout",
     "text": [
      "\n"
     ]
    },
    {
     "output_type": "display_data",
     "data": {
      "text/plain": [
       "<IPython.core.display.Markdown object>"
      ],
      "text/markdown": "**Classification Report**"
     },
     "metadata": {}
    },
    {
     "output_type": "display_data",
     "data": {
      "text/plain": [
       "             precision recall f1-score   support\n",
       "Fake news         0.95   0.93     0.94   5295.00\n",
       "Real news         0.93   0.95     0.94   4951.00\n",
       "accuracy          0.94   0.94     0.94      0.94\n",
       "macro avg         0.94   0.94     0.94  10246.00\n",
       "weighted avg      0.94   0.94     0.94  10246.00"
      ],
      "text/html": [
       "\n",
       "  <div id=\"df-329a0b79-470b-4fc2-82b5-829f0e84e09c\" class=\"colab-df-container\">\n",
       "    <div>\n",
       "<style scoped>\n",
       "    .dataframe tbody tr th:only-of-type {\n",
       "        vertical-align: middle;\n",
       "    }\n",
       "\n",
       "    .dataframe tbody tr th {\n",
       "        vertical-align: top;\n",
       "    }\n",
       "\n",
       "    .dataframe thead th {\n",
       "        text-align: right;\n",
       "    }\n",
       "</style>\n",
       "<table border=\"1\" class=\"dataframe\">\n",
       "  <thead>\n",
       "    <tr style=\"text-align: right;\">\n",
       "      <th></th>\n",
       "      <th>precision</th>\n",
       "      <th>recall</th>\n",
       "      <th>f1-score</th>\n",
       "      <th>support</th>\n",
       "    </tr>\n",
       "  </thead>\n",
       "  <tbody>\n",
       "    <tr>\n",
       "      <th>Fake news</th>\n",
       "      <td>0.95</td>\n",
       "      <td>0.93</td>\n",
       "      <td>0.94</td>\n",
       "      <td>5295.00</td>\n",
       "    </tr>\n",
       "    <tr>\n",
       "      <th>Real news</th>\n",
       "      <td>0.93</td>\n",
       "      <td>0.95</td>\n",
       "      <td>0.94</td>\n",
       "      <td>4951.00</td>\n",
       "    </tr>\n",
       "    <tr>\n",
       "      <th>accuracy</th>\n",
       "      <td>0.94</td>\n",
       "      <td>0.94</td>\n",
       "      <td>0.94</td>\n",
       "      <td>0.94</td>\n",
       "    </tr>\n",
       "    <tr>\n",
       "      <th>macro avg</th>\n",
       "      <td>0.94</td>\n",
       "      <td>0.94</td>\n",
       "      <td>0.94</td>\n",
       "      <td>10246.00</td>\n",
       "    </tr>\n",
       "    <tr>\n",
       "      <th>weighted avg</th>\n",
       "      <td>0.94</td>\n",
       "      <td>0.94</td>\n",
       "      <td>0.94</td>\n",
       "      <td>10246.00</td>\n",
       "    </tr>\n",
       "  </tbody>\n",
       "</table>\n",
       "</div>\n",
       "    <div class=\"colab-df-buttons\">\n",
       "\n",
       "  <div class=\"colab-df-container\">\n",
       "    <button class=\"colab-df-convert\" onclick=\"convertToInteractive('df-329a0b79-470b-4fc2-82b5-829f0e84e09c')\"\n",
       "            title=\"Convert this dataframe to an interactive table.\"\n",
       "            style=\"display:none;\">\n",
       "\n",
       "  <svg xmlns=\"http://www.w3.org/2000/svg\" height=\"24px\" viewBox=\"0 -960 960 960\">\n",
       "    <path d=\"M120-120v-720h720v720H120Zm60-500h600v-160H180v160Zm220 220h160v-160H400v160Zm0 220h160v-160H400v160ZM180-400h160v-160H180v160Zm440 0h160v-160H620v160ZM180-180h160v-160H180v160Zm440 0h160v-160H620v160Z\"/>\n",
       "  </svg>\n",
       "    </button>\n",
       "\n",
       "  <style>\n",
       "    .colab-df-container {\n",
       "      display:flex;\n",
       "      gap: 12px;\n",
       "    }\n",
       "\n",
       "    .colab-df-convert {\n",
       "      background-color: #E8F0FE;\n",
       "      border: none;\n",
       "      border-radius: 50%;\n",
       "      cursor: pointer;\n",
       "      display: none;\n",
       "      fill: #1967D2;\n",
       "      height: 32px;\n",
       "      padding: 0 0 0 0;\n",
       "      width: 32px;\n",
       "    }\n",
       "\n",
       "    .colab-df-convert:hover {\n",
       "      background-color: #E2EBFA;\n",
       "      box-shadow: 0px 1px 2px rgba(60, 64, 67, 0.3), 0px 1px 3px 1px rgba(60, 64, 67, 0.15);\n",
       "      fill: #174EA6;\n",
       "    }\n",
       "\n",
       "    .colab-df-buttons div {\n",
       "      margin-bottom: 4px;\n",
       "    }\n",
       "\n",
       "    [theme=dark] .colab-df-convert {\n",
       "      background-color: #3B4455;\n",
       "      fill: #D2E3FC;\n",
       "    }\n",
       "\n",
       "    [theme=dark] .colab-df-convert:hover {\n",
       "      background-color: #434B5C;\n",
       "      box-shadow: 0px 1px 3px 1px rgba(0, 0, 0, 0.15);\n",
       "      filter: drop-shadow(0px 1px 2px rgba(0, 0, 0, 0.3));\n",
       "      fill: #FFFFFF;\n",
       "    }\n",
       "  </style>\n",
       "\n",
       "    <script>\n",
       "      const buttonEl =\n",
       "        document.querySelector('#df-329a0b79-470b-4fc2-82b5-829f0e84e09c button.colab-df-convert');\n",
       "      buttonEl.style.display =\n",
       "        google.colab.kernel.accessAllowed ? 'block' : 'none';\n",
       "\n",
       "      async function convertToInteractive(key) {\n",
       "        const element = document.querySelector('#df-329a0b79-470b-4fc2-82b5-829f0e84e09c');\n",
       "        const dataTable =\n",
       "          await google.colab.kernel.invokeFunction('convertToInteractive',\n",
       "                                                    [key], {});\n",
       "        if (!dataTable) return;\n",
       "\n",
       "        const docLinkHtml = 'Like what you see? Visit the ' +\n",
       "          '<a target=\"_blank\" href=https://colab.research.google.com/notebooks/data_table.ipynb>data table notebook</a>'\n",
       "          + ' to learn more about interactive tables.';\n",
       "        element.innerHTML = '';\n",
       "        dataTable['output_type'] = 'display_data';\n",
       "        await google.colab.output.renderOutput(dataTable, element);\n",
       "        const docLink = document.createElement('div');\n",
       "        docLink.innerHTML = docLinkHtml;\n",
       "        element.appendChild(docLink);\n",
       "      }\n",
       "    </script>\n",
       "  </div>\n",
       "\n",
       "\n",
       "<div id=\"df-1ad0305d-d118-47ed-a11c-6d2cf3ff2283\">\n",
       "  <button class=\"colab-df-quickchart\" onclick=\"quickchart('df-1ad0305d-d118-47ed-a11c-6d2cf3ff2283')\"\n",
       "            title=\"Suggest charts\"\n",
       "            style=\"display:none;\">\n",
       "\n",
       "<svg xmlns=\"http://www.w3.org/2000/svg\" height=\"24px\"viewBox=\"0 0 24 24\"\n",
       "     width=\"24px\">\n",
       "    <g>\n",
       "        <path d=\"M19 3H5c-1.1 0-2 .9-2 2v14c0 1.1.9 2 2 2h14c1.1 0 2-.9 2-2V5c0-1.1-.9-2-2-2zM9 17H7v-7h2v7zm4 0h-2V7h2v10zm4 0h-2v-4h2v4z\"/>\n",
       "    </g>\n",
       "</svg>\n",
       "  </button>\n",
       "\n",
       "<style>\n",
       "  .colab-df-quickchart {\n",
       "      --bg-color: #E8F0FE;\n",
       "      --fill-color: #1967D2;\n",
       "      --hover-bg-color: #E2EBFA;\n",
       "      --hover-fill-color: #174EA6;\n",
       "      --disabled-fill-color: #AAA;\n",
       "      --disabled-bg-color: #DDD;\n",
       "  }\n",
       "\n",
       "  [theme=dark] .colab-df-quickchart {\n",
       "      --bg-color: #3B4455;\n",
       "      --fill-color: #D2E3FC;\n",
       "      --hover-bg-color: #434B5C;\n",
       "      --hover-fill-color: #FFFFFF;\n",
       "      --disabled-bg-color: #3B4455;\n",
       "      --disabled-fill-color: #666;\n",
       "  }\n",
       "\n",
       "  .colab-df-quickchart {\n",
       "    background-color: var(--bg-color);\n",
       "    border: none;\n",
       "    border-radius: 50%;\n",
       "    cursor: pointer;\n",
       "    display: none;\n",
       "    fill: var(--fill-color);\n",
       "    height: 32px;\n",
       "    padding: 0;\n",
       "    width: 32px;\n",
       "  }\n",
       "\n",
       "  .colab-df-quickchart:hover {\n",
       "    background-color: var(--hover-bg-color);\n",
       "    box-shadow: 0 1px 2px rgba(60, 64, 67, 0.3), 0 1px 3px 1px rgba(60, 64, 67, 0.15);\n",
       "    fill: var(--button-hover-fill-color);\n",
       "  }\n",
       "\n",
       "  .colab-df-quickchart-complete:disabled,\n",
       "  .colab-df-quickchart-complete:disabled:hover {\n",
       "    background-color: var(--disabled-bg-color);\n",
       "    fill: var(--disabled-fill-color);\n",
       "    box-shadow: none;\n",
       "  }\n",
       "\n",
       "  .colab-df-spinner {\n",
       "    border: 2px solid var(--fill-color);\n",
       "    border-color: transparent;\n",
       "    border-bottom-color: var(--fill-color);\n",
       "    animation:\n",
       "      spin 1s steps(1) infinite;\n",
       "  }\n",
       "\n",
       "  @keyframes spin {\n",
       "    0% {\n",
       "      border-color: transparent;\n",
       "      border-bottom-color: var(--fill-color);\n",
       "      border-left-color: var(--fill-color);\n",
       "    }\n",
       "    20% {\n",
       "      border-color: transparent;\n",
       "      border-left-color: var(--fill-color);\n",
       "      border-top-color: var(--fill-color);\n",
       "    }\n",
       "    30% {\n",
       "      border-color: transparent;\n",
       "      border-left-color: var(--fill-color);\n",
       "      border-top-color: var(--fill-color);\n",
       "      border-right-color: var(--fill-color);\n",
       "    }\n",
       "    40% {\n",
       "      border-color: transparent;\n",
       "      border-right-color: var(--fill-color);\n",
       "      border-top-color: var(--fill-color);\n",
       "    }\n",
       "    60% {\n",
       "      border-color: transparent;\n",
       "      border-right-color: var(--fill-color);\n",
       "    }\n",
       "    80% {\n",
       "      border-color: transparent;\n",
       "      border-right-color: var(--fill-color);\n",
       "      border-bottom-color: var(--fill-color);\n",
       "    }\n",
       "    90% {\n",
       "      border-color: transparent;\n",
       "      border-bottom-color: var(--fill-color);\n",
       "    }\n",
       "  }\n",
       "</style>\n",
       "\n",
       "  <script>\n",
       "    async function quickchart(key) {\n",
       "      const quickchartButtonEl =\n",
       "        document.querySelector('#' + key + ' button');\n",
       "      quickchartButtonEl.disabled = true;  // To prevent multiple clicks.\n",
       "      quickchartButtonEl.classList.add('colab-df-spinner');\n",
       "      try {\n",
       "        const charts = await google.colab.kernel.invokeFunction(\n",
       "            'suggestCharts', [key], {});\n",
       "      } catch (error) {\n",
       "        console.error('Error during call to suggestCharts:', error);\n",
       "      }\n",
       "      quickchartButtonEl.classList.remove('colab-df-spinner');\n",
       "      quickchartButtonEl.classList.add('colab-df-quickchart-complete');\n",
       "    }\n",
       "    (() => {\n",
       "      let quickchartButtonEl =\n",
       "        document.querySelector('#df-1ad0305d-d118-47ed-a11c-6d2cf3ff2283 button');\n",
       "      quickchartButtonEl.style.display =\n",
       "        google.colab.kernel.accessAllowed ? 'block' : 'none';\n",
       "    })();\n",
       "  </script>\n",
       "</div>\n",
       "\n",
       "    </div>\n",
       "  </div>\n"
      ],
      "application/vnd.google.colaboratory.intrinsic+json": {
       "type": "dataframe",
       "summary": "{\n  \"name\": \"classification(y_test, y_pred)\",\n  \"rows\": 5,\n  \"fields\": [\n    {\n      \"column\": \"precision\",\n      \"properties\": {\n        \"dtype\": \"string\",\n        \"num_unique_values\": 3,\n        \"samples\": [\n          \"0.95\",\n          \"0.93\",\n          \"0.94\"\n        ],\n        \"semantic_type\": \"\",\n        \"description\": \"\"\n      }\n    },\n    {\n      \"column\": \"recall\",\n      \"properties\": {\n        \"dtype\": \"string\",\n        \"num_unique_values\": 3,\n        \"samples\": [\n          \"0.93\",\n          \"0.95\",\n          \"0.94\"\n        ],\n        \"semantic_type\": \"\",\n        \"description\": \"\"\n      }\n    },\n    {\n      \"column\": \"f1-score\",\n      \"properties\": {\n        \"dtype\": \"category\",\n        \"num_unique_values\": 1,\n        \"samples\": [\n          \"0.94\"\n        ],\n        \"semantic_type\": \"\",\n        \"description\": \"\"\n      }\n    },\n    {\n      \"column\": \"support\",\n      \"properties\": {\n        \"dtype\": \"string\",\n        \"num_unique_values\": 4,\n        \"samples\": [\n          \"4951.00\"\n        ],\n        \"semantic_type\": \"\",\n        \"description\": \"\"\n      }\n    }\n  ]\n}"
      }
     },
     "metadata": {}
    }
   ]
  }
 ],
 "metadata": {
  "kernelspec": {
   "display_name": "Python 3",
   "name": "python3"
  },
  "language_info": {
   "codemirror_mode": {
    "name": "ipython",
    "version": 2
   },
   "file_extension": ".py",
   "mimetype": "text/x-python",
   "name": "python",
   "nbconvert_exporter": "python",
   "pygments_lexer": "ipython2",
   "version": "2.7.6"
  },
  "colab": {
   "provenance": [],
   "toc_visible": true,
   "machine_shape": "hm"
  }
 },
 "nbformat": 4,
 "nbformat_minor": 5
}
