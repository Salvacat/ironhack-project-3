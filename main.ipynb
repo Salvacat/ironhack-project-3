{
 "cells": [
  {
   "metadata": {
    "id": "920f5f1493c5b897"
   },
   "cell_type": "markdown",
   "source": [
    "# Ironhack Project NLP\n",
    "\n",
    "Team 4 (Salva, Diego, Fabi)"
   ],
   "id": "920f5f1493c5b897"
  },
  {
   "cell_type": "markdown",
   "source": [
    "## Imports\n",
    "\n",
    "Import only needed libaries"
   ],
   "metadata": {
    "id": "oj5MkP5199Lp"
   },
   "id": "oj5MkP5199Lp"
  },
  {
   "cell_type": "code",
   "id": "7a3c3d61fc0e6e04",
   "metadata": {
    "id": "7a3c3d61fc0e6e04",
    "ExecuteTime": {
     "end_time": "2024-10-03T21:43:10.009581Z",
     "start_time": "2024-10-03T21:43:10.000332Z"
    }
   },
   "source": [
    "import re\n",
    "import numpy as np\n",
    "import pandas as pd\n",
    "import matplotlib.pyplot as plt\n",
    "from sklearn.feature_extraction.text import TfidfVectorizer\n",
    "from sklearn.model_selection import train_test_split, cross_val_score\n",
    "from sklearn.linear_model import LogisticRegression\n",
    "from sklearn.metrics import ConfusionMatrixDisplay, accuracy_score, classification_report, confusion_matrix, f1_score\n",
    "from IPython.display import Markdown, display\n",
    "\n",
    "%matplotlib inline"
   ],
   "outputs": [],
   "execution_count": 17
  },
  {
   "metadata": {
    "id": "2c77ddf5926c253b"
   },
   "cell_type": "markdown",
   "source": [
    "## Preparations"
   ],
   "id": "2c77ddf5926c253b"
  },
  {
   "cell_type": "markdown",
   "source": [
    "### Constants\n",
    "\n",
    "Make classes readable"
   ],
   "metadata": {
    "id": "JX7w4Zuyxceb"
   },
   "id": "JX7w4Zuyxceb"
  },
  {
   "cell_type": "code",
   "source": [
    "CLASSES = {\"0\": \"Fake news\", \"1\": \"Real news\"}"
   ],
   "metadata": {
    "id": "xNxMAefnxfRF",
    "ExecuteTime": {
     "end_time": "2024-10-03T21:43:10.041448Z",
     "start_time": "2024-10-03T21:43:10.025334Z"
    }
   },
   "id": "xNxMAefnxfRF",
   "outputs": [],
   "execution_count": 18
  },
  {
   "metadata": {
    "id": "112732e40ae9fc7d"
   },
   "cell_type": "markdown",
   "source": [
    "### Functions"
   ],
   "id": "112732e40ae9fc7d"
  },
  {
   "cell_type": "markdown",
   "source": [
    "#### Pre Processing\n",
    "\n",
    "Helper methods to clean up the texts"
   ],
   "metadata": {
    "id": "iAVCRJQLtxfC"
   },
   "id": "iAVCRJQLtxfC"
  },
  {
   "metadata": {
    "id": "b352373604e6a2c0",
    "ExecuteTime": {
     "end_time": "2024-10-03T21:43:10.073651Z",
     "start_time": "2024-10-03T21:43:10.060017Z"
    }
   },
   "cell_type": "code",
   "source": [
    "def clean_text(text):\n",
    "    \"\"\"\n",
    "    Remove numbers and extra spaces from text\n",
    "\n",
    "    Args:\n",
    "        text(string): The text to be cleaned.\n",
    "\n",
    "    Returns:\n",
    "        string: The cleaned text.\n",
    "    \"\"\"\n",
    "\n",
    "    text = re.sub(r'\\d+', '', text)  # Remove numbers\n",
    "    text = re.sub(r'\\s+', ' ', text)  # replace multiple spaces with just 1\n",
    "    return text"
   ],
   "id": "b352373604e6a2c0",
   "outputs": [],
   "execution_count": 19
  },
  {
   "cell_type": "markdown",
   "source": [
    "#### Evaluating\n",
    "\n",
    "Helper Methods to evaluate the result of the trained model"
   ],
   "metadata": {
    "id": "o2g8wkl9ixwg"
   },
   "id": "o2g8wkl9ixwg"
  },
  {
   "cell_type": "code",
   "source": [
    "def accuracy(y_test, y_pred):\n",
    "    \"\"\"\n",
    "    Calculate and print the accuracy score.\n",
    "\n",
    "    Args:\n",
    "        y_test(pandas.core.series.Series): The true labels.\n",
    "        y_pred(numpy.ndarray): The predicted labels.\n",
    "\n",
    "    Returns:\n",
    "        None. Prints the accuracy score.\n",
    "    \"\"\"\n",
    "\n",
    "    accuracy = accuracy_score(y_test, y_pred)\n",
    "    print(f\"{accuracy:.4}\")"
   ],
   "metadata": {
    "id": "fHVqKS3UkQ5e",
    "ExecuteTime": {
     "end_time": "2024-10-03T21:43:10.105379Z",
     "start_time": "2024-10-03T21:43:10.091768Z"
    }
   },
   "id": "fHVqKS3UkQ5e",
   "outputs": [],
   "execution_count": 20
  },
  {
   "cell_type": "code",
   "source": [
    "def f1(y_test, y_pred):\n",
    "    \"\"\"\n",
    "    Calculate and print the accuracy score.\n",
    "\n",
    "    Args:\n",
    "        y_test(pandas.core.series.Series): The true labels.\n",
    "        y_pred(numpy.ndarray): The predicted labels.\n",
    "\n",
    "    Returns:\n",
    "        None. Prints the f1 score.\n",
    "    \"\"\"\n",
    "\n",
    "    f1_score_per_class = f1_score(y_test, y_pred)\n",
    "    print(f\"{f1_score_per_class:.4}\")"
   ],
   "metadata": {
    "id": "LCa64T6vvskX",
    "ExecuteTime": {
     "end_time": "2024-10-03T21:43:10.143939Z",
     "start_time": "2024-10-03T21:43:10.124105Z"
    }
   },
   "id": "LCa64T6vvskX",
   "outputs": [],
   "execution_count": 21
  },
  {
   "cell_type": "code",
   "source": [
    "def classification(y_test, y_pred):\n",
    "    \"\"\"\n",
    "    Generate and display the classification report.\n",
    "\n",
    "    Args:\n",
    "        y_test(pandas.core.series.Series): The true labels.\n",
    "        y_pred(numpy.ndarray): The predicted labels.\n",
    "\n",
    "    Returns:\n",
    "        None. Displays the classification report.\n",
    "    \"\"\"\n",
    "\n",
    "    report = classification_report(y_test, y_pred, output_dict=True, target_names=[CLASSES['0'], CLASSES['1']])\n",
    "    df = pd.DataFrame(report).transpose()\n",
    "    df = df.map(lambda x: f\"{x:.2f}\" if isinstance(x, (int, float)) else x)\n",
    "    display(df)"
   ],
   "metadata": {
    "id": "mD5wTb6jkY7Z",
    "ExecuteTime": {
     "end_time": "2024-10-03T21:43:10.175685Z",
     "start_time": "2024-10-03T21:43:10.161394Z"
    }
   },
   "id": "mD5wTb6jkY7Z",
   "outputs": [],
   "execution_count": 22
  },
  {
   "cell_type": "code",
   "source": [
    "def confus_matrix(y_test, y_pred):\n",
    "    \"\"\"\n",
    "    Generate and display the confusion matrix.\n",
    "\n",
    "    Args:\n",
    "        y_test(pandas.core.series.Series): The true labels.\n",
    "        y_pred(numpy.ndarray): The predicted labels.\n",
    "\n",
    "    Returns:\n",
    "        None. Displays the confusion matrix.\n",
    "    \"\"\"\n",
    "\n",
    "    cm = confusion_matrix(y_test, y_pred)\n",
    "    disp = ConfusionMatrixDisplay(confusion_matrix=cm, display_labels=[CLASSES['0'], CLASSES['1']])\n",
    "    disp.plot(cmap='Greens')\n",
    "    disp.ax_.set(xlabel='Predicted Values', ylabel='Actual Values')\n",
    "    plt.show()"
   ],
   "metadata": {
    "id": "tK3lnmZlkjOt",
    "ExecuteTime": {
     "end_time": "2024-10-03T21:43:10.209294Z",
     "start_time": "2024-10-03T21:43:10.193579Z"
    }
   },
   "id": "tK3lnmZlkjOt",
   "outputs": [],
   "execution_count": 23
  },
  {
   "metadata": {
    "id": "d3e7e34c02166c2d"
   },
   "cell_type": "markdown",
   "source": [
    "### Import Data\n",
    "\n",
    "Loads the labeled text data from a tab-separated file named \"training_data_lowercase.csv\" into a Pandas DataFrame."
   ],
   "id": "d3e7e34c02166c2d"
  },
  {
   "metadata": {
    "collapsed": true,
    "id": "initial_id",
    "ExecuteTime": {
     "end_time": "2024-10-03T21:43:10.316448Z",
     "start_time": "2024-10-03T21:43:10.238301Z"
    }
   },
   "cell_type": "code",
   "source": [
    "data = pd.read_csv('training_data_lowercase.csv', sep='\\t', header=None, names=['class', 'text'])"
   ],
   "id": "initial_id",
   "outputs": [],
   "execution_count": 24
  },
  {
   "cell_type": "markdown",
   "source": [
    "### Pre Process Data\n",
    "\n",
    "Apply a text cleanup"
   ],
   "metadata": {
    "id": "9U6aEy6KubgY"
   },
   "id": "9U6aEy6KubgY"
  },
  {
   "cell_type": "code",
   "source": [
    "data['text'] = data['text'].apply(clean_text)"
   ],
   "metadata": {
    "id": "5bUZEeUfuqhi",
    "ExecuteTime": {
     "end_time": "2024-10-03T21:43:10.604516Z",
     "start_time": "2024-10-03T21:43:10.333187Z"
    }
   },
   "id": "5bUZEeUfuqhi",
   "outputs": [],
   "execution_count": 25
  },
  {
   "cell_type": "markdown",
   "source": [
    "## Model\n",
    "\n",
    "Using a LogisticRegression with TF-IDF vectorized text data, the model is trained to classify text as \"Fake news\" or \"Real news\"."
   ],
   "metadata": {
    "id": "CYJ91i0icDDu"
   },
   "id": "CYJ91i0icDDu"
  },
  {
   "metadata": {
    "id": "e3aafb3065bb9886",
    "ExecuteTime": {
     "end_time": "2024-10-03T21:43:11.231240Z",
     "start_time": "2024-10-03T21:43:10.622964Z"
    }
   },
   "cell_type": "code",
   "source": [
    "model = LogisticRegression(solver='liblinear')\n",
    "vectorized = TfidfVectorizer(max_features=3200).fit_transform(data['text'])\n",
    "\n",
    "X_train, X_test, y_train, y_test = train_test_split(vectorized, data['class'], test_size=0.3, random_state=42)\n",
    "\n",
    "model.fit(X_train, y_train)\n",
    "\n",
    "y_pred = model.predict(X_test)"
   ],
   "id": "e3aafb3065bb9886",
   "outputs": [],
   "execution_count": 26
  },
  {
   "cell_type": "markdown",
   "source": [
    "## Evaluation\n",
    "\n",
    "The trained model is then evaluated using metrics like cross validation score, accuracy and F1-score, along with a confusion matrix and classification report."
   ],
   "metadata": {
    "id": "eCOwiZSLxETQ"
   },
   "id": "eCOwiZSLxETQ"
  },
  {
   "cell_type": "code",
   "source": [
    "display(Markdown('**Cross Validation Score**'))\n",
    "print(round(np.mean(cross_val_score(model, vectorized, data['class'], cv=5)), 4))\n",
    "print(\"\")\n",
    "\n",
    "display(Markdown('**Accuracy**'))\n",
    "accuracy(y_test, y_pred)\n",
    "print(\"\")\n",
    "\n",
    "display(Markdown('**F1-Score**'))\n",
    "f1(y_test, y_pred)\n",
    "print(\"\")\n",
    "\n",
    "display(Markdown('**Confusion Matrix**'))\n",
    "confus_matrix(y_test, y_pred)\n",
    "print(\"\")\n",
    "\n",
    "display(Markdown('**Classification Report**'))\n",
    "classification(y_test, y_pred)"
   ],
   "metadata": {
    "colab": {
     "base_uri": "https://localhost:8080/",
     "height": 906
    },
    "id": "sPmTzIrbxHyn",
    "executionInfo": {
     "status": "ok",
     "timestamp": 1727969140700,
     "user_tz": -120,
     "elapsed": 1125,
     "user": {
      "displayName": "Fabian Hieber",
      "userId": "06681858431281640040"
     }
    },
    "outputId": "58f487b5-6a8c-4140-d70c-3bf526b84146",
    "ExecuteTime": {
     "end_time": "2024-10-03T21:56:21.369679Z",
     "start_time": "2024-10-03T21:56:20.774119Z"
    }
   },
   "id": "sPmTzIrbxHyn",
   "outputs": [
    {
     "data": {
      "text/plain": [
       "<IPython.core.display.Markdown object>"
      ],
      "text/markdown": "**Cross Validation Score**"
     },
     "metadata": {},
     "output_type": "display_data"
    },
    {
     "name": "stdout",
     "output_type": "stream",
     "text": [
      "0.9151\n",
      "\n"
     ]
    },
    {
     "data": {
      "text/plain": [
       "<IPython.core.display.Markdown object>"
      ],
      "text/markdown": "**Accuracy**"
     },
     "metadata": {},
     "output_type": "display_data"
    },
    {
     "name": "stdout",
     "output_type": "stream",
     "text": [
      "0.9418\n",
      "\n"
     ]
    },
    {
     "data": {
      "text/plain": [
       "<IPython.core.display.Markdown object>"
      ],
      "text/markdown": "**F1-Score**"
     },
     "metadata": {},
     "output_type": "display_data"
    },
    {
     "name": "stdout",
     "output_type": "stream",
     "text": [
      "0.9404\n",
      "\n"
     ]
    },
    {
     "data": {
      "text/plain": [
       "<IPython.core.display.Markdown object>"
      ],
      "text/markdown": "**Confusion Matrix**"
     },
     "metadata": {},
     "output_type": "display_data"
    },
    {
     "data": {
      "text/plain": [
       "<Figure size 640x480 with 2 Axes>"
      ],
      "image/png": "[encoded data removed]"
     },
     "metadata": {},
     "output_type": "display_data"
    },
    {
     "name": "stdout",
     "output_type": "stream",
     "text": [
      "\n"
     ]
    },
    {
     "data": {
      "text/plain": [
       "<IPython.core.display.Markdown object>"
      ],
      "text/markdown": "**Classification Report**"
     },
     "metadata": {},
     "output_type": "display_data"
    },
    {
     "data": {
      "text/plain": [
       "             precision recall f1-score   support\n",
       "Fake news         0.95   0.93     0.94   5295.00\n",
       "Real news         0.93   0.95     0.94   4951.00\n",
       "accuracy          0.94   0.94     0.94      0.94\n",
       "macro avg         0.94   0.94     0.94  10246.00\n",
       "weighted avg      0.94   0.94     0.94  10246.00"
      ],
      "text/html": [
       "<div>\n",
       "<style scoped>\n",
       "    .dataframe tbody tr th:only-of-type {\n",
       "        vertical-align: middle;\n",
       "    }\n",
       "\n",
       "    .dataframe tbody tr th {\n",
       "        vertical-align: top;\n",
       "    }\n",
       "\n",
       "    .dataframe thead th {\n",
       "        text-align: right;\n",
       "    }\n",
       "</style>\n",
       "<table border=\"1\" class=\"dataframe\">\n",
       "  <thead>\n",
       "    <tr style=\"text-align: right;\">\n",
       "      <th></th>\n",
       "      <th>precision</th>\n",
       "      <th>recall</th>\n",
       "      <th>f1-score</th>\n",
       "      <th>support</th>\n",
       "    </tr>\n",
       "  </thead>\n",
       "  <tbody>\n",
       "    <tr>\n",
       "      <th>Fake news</th>\n",
       "      <td>0.95</td>\n",
       "      <td>0.93</td>\n",
       "      <td>0.94</td>\n",
       "      <td>5295.00</td>\n",
       "    </tr>\n",
       "    <tr>\n",
       "      <th>Real news</th>\n",
       "      <td>0.93</td>\n",
       "      <td>0.95</td>\n",
       "      <td>0.94</td>\n",
       "      <td>4951.00</td>\n",
       "    </tr>\n",
       "    <tr>\n",
       "      <th>accuracy</th>\n",
       "      <td>0.94</td>\n",
       "      <td>0.94</td>\n",
       "      <td>0.94</td>\n",
       "      <td>0.94</td>\n",
       "    </tr>\n",
       "    <tr>\n",
       "      <th>macro avg</th>\n",
       "      <td>0.94</td>\n",
       "      <td>0.94</td>\n",
       "      <td>0.94</td>\n",
       "      <td>10246.00</td>\n",
       "    </tr>\n",
       "    <tr>\n",
       "      <th>weighted avg</th>\n",
       "      <td>0.94</td>\n",
       "      <td>0.94</td>\n",
       "      <td>0.94</td>\n",
       "      <td>10246.00</td>\n",
       "    </tr>\n",
       "  </tbody>\n",
       "</table>\n",
       "</div>"
      ]
     },
     "metadata": {},
     "output_type": "display_data"
    }
   ],
   "execution_count": 32
  },
  {
   "metadata": {},
   "cell_type": "markdown",
   "source": [
    "## Prediction\n",
    "\n",
    "Prediction wit real data will be written into results.csv"
   ],
   "id": "c48d28d069dca6a1"
  },
  {
   "cell_type": "code",
   "source": [
    "real_data = pd.read_csv('real_data.csv', sep='\\t', header=None, names=['class', 'text'])\n",
    "\n",
    "real_data['text'] = real_data['text'].apply(clean_text)\n",
    "\n",
    "vectorized_text = TfidfVectorizer(max_features=3200).fit(data['text'])\n",
    "new_data_vectorized = vectorized_text.transform(real_data['text'])\n",
    "\n",
    "predictions = model.predict(new_data_vectorized)\n",
    "real_data['class'] = predictions\n",
    "\n",
    "real_data.to_csv('G4.csv', index=False)"
   ],
   "metadata": {
    "id": "yjqw5oyXKXXy",
    "ExecuteTime": {
     "end_time": "2024-10-03T21:43:13.846643Z",
     "start_time": "2024-10-03T21:43:11.999765Z"
    }
   },
   "id": "yjqw5oyXKXXy",
   "outputs": [],
   "execution_count": 28
  }
 ],
 "metadata": {
  "kernelspec": {
   "display_name": "Python 3 (ipykernel)",
   "name": "python3",
   "language": "python"
  },
  "language_info": {
   "codemirror_mode": {
    "name": "ipython",
    "version": 2
   },
   "file_extension": ".py",
   "mimetype": "text/x-python",
   "name": "python",
   "nbconvert_exporter": "python",
   "pygments_lexer": "ipython2",
   "version": "2.7.6"
  },
  "colab": {
   "provenance": [],
   "toc_visible": true,
   "machine_shape": "hm"
  }
 },
 "nbformat": 4,
 "nbformat_minor": 5
}
