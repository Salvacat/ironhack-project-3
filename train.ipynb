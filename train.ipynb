{
 "cells": [
  {
   "cell_type": "markdown",
   "id": "920f5f1493c5b897",
   "metadata": {
    "id": "920f5f1493c5b897"
   },
   "source": [
    "# Ironhack Project NLP (Training)\n",
    "\n",
    "Team 4 (Salva, Diego, Fabi)"
   ]
  },
  {
   "cell_type": "markdown",
   "id": "oj5MkP5199Lp",
   "metadata": {
    "id": "oj5MkP5199Lp"
   },
   "source": [
    "## Imports\n",
    "\n",
    "Import only needed libaries"
   ]
  },
  {
   "cell_type": "code",
   "execution_count": 9,
   "id": "7a3c3d61fc0e6e04",
   "metadata": {
    "executionInfo": {
     "elapsed": 288,
     "status": "ok",
     "timestamp": 1727986605103,
     "user": {
      "displayName": "Fabian Hieber",
      "userId": "06681858431281640040"
     },
     "user_tz": -120
    },
    "id": "7a3c3d61fc0e6e04"
   },
   "outputs": [],
   "source": [
    "import re\n",
    "import nltk\n",
    "import numpy as np\n",
    "import pandas as pd\n",
    "import itertools\n",
    "from sklearn.feature_extraction.text import TfidfVectorizer, CountVectorizer\n",
    "from sklearn.model_selection import train_test_split, cross_val_score\n",
    "from sklearn.linear_model import LogisticRegression\n",
    "from sklearn.naive_bayes import MultinomialNB, ComplementNB\n",
    "from sklearn.metrics import accuracy_score\n",
    "from nltk.corpus import stopwords\n",
    "from nltk.stem import WordNetLemmatizer\n",
    "from nltk.tokenize import word_tokenize\n",
    "\n",
    "%matplotlib inline"
   ]
  },
  {
   "cell_type": "code",
   "execution_count": 10,
   "id": "iMD5eySpWxfu",
   "metadata": {
    "colab": {
     "base_uri": "https://localhost:8080/"
    },
    "executionInfo": {
     "elapsed": 4,
     "status": "ok",
     "timestamp": 1727986605391,
     "user": {
      "displayName": "Fabian Hieber",
      "userId": "06681858431281640040"
     },
     "user_tz": -120
    },
    "id": "iMD5eySpWxfu",
    "outputId": "060c3ea8-644e-42a2-ea02-cde5c442d72d"
   },
   "outputs": [
    {
     "output_type": "stream",
     "name": "stderr",
     "text": [
      "[nltk_data] Downloading package stopwords to /root/nltk_data...\n",
      "[nltk_data]   Package stopwords is already up-to-date!\n",
      "[nltk_data] Downloading package punkt to /root/nltk_data...\n",
      "[nltk_data]   Package punkt is already up-to-date!\n",
      "[nltk_data] Downloading package wordnet to /root/nltk_data...\n",
      "[nltk_data]   Package wordnet is already up-to-date!\n",
      "[nltk_data] Downloading package omw-1.4 to /root/nltk_data...\n",
      "[nltk_data]   Package omw-1.4 is already up-to-date!\n"
     ]
    },
    {
     "output_type": "execute_result",
     "data": {
      "text/plain": [
       "True"
      ]
     },
     "metadata": {},
     "execution_count": 10
    }
   ],
   "source": [
    "nltk.download('stopwords')\n",
    "nltk.download('punkt')\n",
    "nltk.download('wordnet')\n",
    "nltk.download('omw-1.4')"
   ]
  },
  {
   "cell_type": "markdown",
   "id": "2c77ddf5926c253b",
   "metadata": {
    "id": "2c77ddf5926c253b"
   },
   "source": [
    "## Preparations"
   ]
  },
  {
   "cell_type": "markdown",
   "id": "JX7w4Zuyxceb",
   "metadata": {
    "id": "JX7w4Zuyxceb"
   },
   "source": [
    "### Constants\n",
    "\n",
    "Make classes readable"
   ]
  },
  {
   "cell_type": "code",
   "execution_count": 11,
   "id": "xNxMAefnxfRF",
   "metadata": {
    "executionInfo": {
     "elapsed": 309,
     "status": "ok",
     "timestamp": 1727986605698,
     "user": {
      "displayName": "Fabian Hieber",
      "userId": "06681858431281640040"
     },
     "user_tz": -120
    },
    "id": "xNxMAefnxfRF"
   },
   "outputs": [],
   "source": [
    "CLASSES = {\"0\": \"Fake news\", \"1\": \"Real news\"}"
   ]
  },
  {
   "cell_type": "markdown",
   "id": "112732e40ae9fc7d",
   "metadata": {
    "id": "112732e40ae9fc7d"
   },
   "source": [
    "#### Pre Processing\n",
    "\n",
    "Helper methods to clean up the texts"
   ]
  },
  {
   "cell_type": "code",
   "execution_count": 12,
   "id": "c3e1e11203b6d78a",
   "metadata": {
    "executionInfo": {
     "elapsed": 10,
     "status": "ok",
     "timestamp": 1727986605698,
     "user": {
      "displayName": "Fabian Hieber",
      "userId": "06681858431281640040"
     },
     "user_tz": -120
    },
    "id": "c3e1e11203b6d78a"
   },
   "outputs": [],
   "source": [
    "english_stopwords = stopwords.words('english')\n",
    "def remove_stopwords(text):\n",
    "    \"\"\"Removes stop words from a given text.\n",
    "\n",
    "    Args:\n",
    "      text(string): The input text as a string.\n",
    "\n",
    "    Returns:\n",
    "      The text with stop words removed as a string.\n",
    "    \"\"\"\n",
    "\n",
    "    text = ' '.join([word for word in text.split() if word not in english_stopwords]) # Remove word if it's a stopword\n",
    "    return text"
   ]
  },
  {
   "cell_type": "code",
   "execution_count": 13,
   "id": "0zPszyIDbTHU",
   "metadata": {
    "executionInfo": {
     "elapsed": 10,
     "status": "ok",
     "timestamp": 1727986605698,
     "user": {
      "displayName": "Fabian Hieber",
      "userId": "06681858431281640040"
     },
     "user_tz": -120
    },
    "id": "0zPszyIDbTHU"
   },
   "outputs": [],
   "source": [
    "def remove_special_chars(text):\n",
    "    \"\"\"Removes special characters from a given text.\n",
    "\n",
    "    Args:\n",
    "        text(string): The input text as a string.\n",
    "\n",
    "    Returns:\n",
    "        The text with special characters removed as a string.\n",
    "    \"\"\"\n",
    "\n",
    "    return re.sub(r'[^\\w\\s.]', '', text) # Remove special Characters"
   ]
  },
  {
   "cell_type": "code",
   "execution_count": 14,
   "id": "b352373604e6a2c0",
   "metadata": {
    "executionInfo": {
     "elapsed": 10,
     "status": "ok",
     "timestamp": 1727986605699,
     "user": {
      "displayName": "Fabian Hieber",
      "userId": "06681858431281640040"
     },
     "user_tz": -120
    },
    "id": "b352373604e6a2c0"
   },
   "outputs": [],
   "source": [
    "def clean_text(text):\n",
    "    \"\"\"\n",
    "    Remove numbers and extra spaces from text\n",
    "\n",
    "    Args:\n",
    "        text(string): The text to be cleaned.\n",
    "\n",
    "    Returns:\n",
    "        string: The cleaned text.\n",
    "    \"\"\"\n",
    "\n",
    "    text = re.sub(r'\\d+', '', text) # Remove numbers\n",
    "    text = re.sub(r'\\s+', ' ', text)  # replace multiple spaces with just 1\n",
    "    return text"
   ]
  },
  {
   "cell_type": "code",
   "execution_count": 15,
   "id": "WW1Qy1bBXMzI",
   "metadata": {
    "executionInfo": {
     "elapsed": 10,
     "status": "ok",
     "timestamp": 1727986605699,
     "user": {
      "displayName": "Fabian Hieber",
      "userId": "06681858431281640040"
     },
     "user_tz": -120
    },
    "id": "WW1Qy1bBXMzI"
   },
   "outputs": [],
   "source": [
    "lemmatizer = WordNetLemmatizer()\n",
    "def lemmatize_text(text):\n",
    "    \"\"\"\n",
    "    Lemmatize a given text.\n",
    "\n",
    "    Args:\n",
    "        text(string): The text to be lemmatized.\n",
    "\n",
    "    Returns:\n",
    "        string: The lemmatized text.\n",
    "    \"\"\"\n",
    "    words = word_tokenize(text) # Tokenize the text into words\n",
    "    lemmatized_words = [lemmatizer.lemmatize(word) for word in words] # Lemmatize each word\n",
    "    return ' '.join(lemmatized_words) # Join the lemmatized words back into a single string"
   ]
  },
  {
   "cell_type": "markdown",
   "id": "d3e7e34c02166c2d",
   "metadata": {
    "id": "d3e7e34c02166c2d"
   },
   "source": [
    "### Import Data\n",
    "\n",
    "Loads the labeled text data from a tab-separated file named \"training_data_lowercase.csv\" into a Pandas DataFrame."
   ]
  },
  {
   "cell_type": "code",
   "execution_count": 16,
   "id": "initial_id",
   "metadata": {
    "collapsed": true,
    "executionInfo": {
     "elapsed": 9,
     "status": "ok",
     "timestamp": 1727986605699,
     "user": {
      "displayName": "Fabian Hieber",
      "userId": "06681858431281640040"
     },
     "user_tz": -120
    },
    "id": "initial_id"
   },
   "outputs": [],
   "source": [
    "raw_data = pd.read_csv('training_data_lowercase.csv', sep='\\t', header=None, names=['class', 'text'])"
   ]
  },
  {
   "cell_type": "markdown",
   "id": "ba92a85ac0d5f385",
   "metadata": {
    "id": "ba92a85ac0d5f385"
   },
   "source": [
    "### Check Data\n",
    "\n",
    "Check Data if it contains blank cells"
   ]
  },
  {
   "cell_type": "code",
   "execution_count": 17,
   "id": "ce2345d418325ede",
   "metadata": {
    "colab": {
     "base_uri": "https://localhost:8080/",
     "height": 147
    },
    "executionInfo": {
     "elapsed": 9,
     "status": "ok",
     "timestamp": 1727986605699,
     "user": {
      "displayName": "Fabian Hieber",
      "userId": "06681858431281640040"
     },
     "user_tz": -120
    },
    "id": "ce2345d418325ede",
    "outputId": "b6f1958a-0e9a-455d-e180-15d224c633d6"
   },
   "outputs": [
    {
     "output_type": "execute_result",
     "data": {
      "text/plain": [
       "class    0\n",
       "text     0\n",
       "dtype: int64"
      ],
      "text/html": [
       "<div>\n",
       "<style scoped>\n",
       "    .dataframe tbody tr th:only-of-type {\n",
       "        vertical-align: middle;\n",
       "    }\n",
       "\n",
       "    .dataframe tbody tr th {\n",
       "        vertical-align: top;\n",
       "    }\n",
       "\n",
       "    .dataframe thead th {\n",
       "        text-align: right;\n",
       "    }\n",
       "</style>\n",
       "<table border=\"1\" class=\"dataframe\">\n",
       "  <thead>\n",
       "    <tr style=\"text-align: right;\">\n",
       "      <th></th>\n",
       "      <th>0</th>\n",
       "    </tr>\n",
       "  </thead>\n",
       "  <tbody>\n",
       "    <tr>\n",
       "      <th>class</th>\n",
       "      <td>0</td>\n",
       "    </tr>\n",
       "    <tr>\n",
       "      <th>text</th>\n",
       "      <td>0</td>\n",
       "    </tr>\n",
       "  </tbody>\n",
       "</table>\n",
       "</div><br><label><b>dtype:</b> int64</label>"
      ]
     },
     "metadata": {},
     "execution_count": 17
    }
   ],
   "source": [
    "raw_data.isnull().sum()"
   ]
  },
  {
   "cell_type": "markdown",
   "id": "59e73c5d959a4521",
   "metadata": {
    "id": "59e73c5d959a4521"
   },
   "source": [
    "### Clean Data\n",
    "\n",
    "Create combinations of all pre prcessing methods to test the models on"
   ]
  },
  {
   "cell_type": "code",
   "execution_count": 18,
   "id": "v8ZMDZWJ9bsm",
   "metadata": {
    "colab": {
     "base_uri": "https://localhost:8080/"
    },
    "executionInfo": {
     "elapsed": 43393,
     "status": "ok",
     "timestamp": 1727986649085,
     "user": {
      "displayName": "Fabian Hieber",
      "userId": "06681858431281640040"
     },
     "user_tz": -120
    },
    "id": "v8ZMDZWJ9bsm",
    "outputId": "98683a41-8729-47ab-bf55-4c9a0a4840a3"
   },
   "outputs": [
    {
     "output_type": "stream",
     "name": "stdout",
     "text": [
      "Applying: clean_text\n",
      "Applying: remove_special_chars\n",
      "Applying: remove_stopwords\n",
      "Applying: lemmatize_text\n",
      "Applying: clean_text,remove_special_chars\n",
      "Applying: clean_text,remove_stopwords\n",
      "Applying: clean_text,lemmatize_text\n",
      "Applying: remove_special_chars,remove_stopwords\n",
      "Applying: remove_special_chars,lemmatize_text\n",
      "Applying: remove_stopwords,lemmatize_text\n",
      "Applying: clean_text,remove_special_chars,remove_stopwords\n",
      "Applying: clean_text,remove_special_chars,lemmatize_text\n",
      "Applying: clean_text,remove_stopwords,lemmatize_text\n",
      "Applying: remove_special_chars,remove_stopwords,lemmatize_text\n",
      "Applying: clean_text,remove_special_chars,remove_stopwords,lemmatize_text\n"
     ]
    }
   ],
   "source": [
    "combinations = {}\n",
    "functions = [clean_text, remove_special_chars, remove_stopwords, lemmatize_text]\n",
    "\n",
    "for r in range(1, len(functions) + 1):\n",
    "    for subset in itertools.combinations(functions, r):\n",
    "        data_copy = raw_data.copy()\n",
    "        func_names = [func.__name__ for func in subset]\n",
    "        name = ','.join(func_names)\n",
    "        print(f\"Applying: {name}\")\n",
    "        for func in subset:\n",
    "            data_copy['text'] = data_copy['text'].apply(func)\n",
    "            combinations[name] = data_copy"
   ]
  },
  {
   "cell_type": "markdown",
   "id": "CYJ91i0icDDu",
   "metadata": {
    "id": "CYJ91i0icDDu"
   },
   "source": [
    "## Models\n",
    "\n",
    "Multiple models, including MultinomialNB, ComplementNB, and LogisticRegression, were tested with two vectorizers: CountVectorizer and TfidfVectorizer. These models were evaluated on different text preprocessing combinations to find the best performing combination. The goal was to identify the model and text processing approach that yielded the highest accuracy and lowest difference between training and testing accuracy."
   ]
  },
  {
   "cell_type": "code",
   "execution_count": 19,
   "id": "PlVQ07yrDchA",
   "metadata": {
    "executionInfo": {
     "elapsed": 11,
     "status": "ok",
     "timestamp": 1727986649085,
     "user": {
      "displayName": "Fabian Hieber",
      "userId": "06681858431281640040"
     },
     "user_tz": -120
    },
    "id": "PlVQ07yrDchA"
   },
   "outputs": [],
   "source": [
    "results = {}\n",
    "\n",
    "models = {\"MultinomialNB\": MultinomialNB(),\n",
    "          \"ComplementNB\": ComplementNB(),\n",
    "          \"LogisticRegression\": LogisticRegression(solver='liblinear')}\n",
    "\n",
    "vectorizers = {\"CountVectorizer\": CountVectorizer(ngram_range=(1,2)),\n",
    "               \"TfidfVectorizer\": TfidfVectorizer(max_features=3200)}"
   ]
  },
  {
   "cell_type": "code",
   "execution_count": 22,
   "id": "e3aafb3065bb9886",
   "metadata": {
    "colab": {
     "base_uri": "https://localhost:8080/"
    },
    "id": "e3aafb3065bb9886",
    "executionInfo": {
     "status": "ok",
     "timestamp": 1727987183112,
     "user_tz": -120,
     "elapsed": 134026,
     "user": {
      "displayName": "Fabian Hieber",
      "userId": "06681858431281640040"
     }
    },
    "outputId": "e123539e-c8b6-4369-9282-506aefca3525"
   },
   "outputs": [
    {
     "output_type": "stream",
     "name": "stdout",
     "text": [
      "MultinomialNB CountVectorizer clean_text\n",
      "MultinomialNB CountVectorizer remove_special_chars\n",
      "MultinomialNB CountVectorizer remove_stopwords\n",
      "MultinomialNB CountVectorizer lemmatize_text\n",
      "MultinomialNB CountVectorizer clean_text,remove_special_chars\n",
      "MultinomialNB CountVectorizer clean_text,remove_stopwords\n",
      "MultinomialNB CountVectorizer clean_text,lemmatize_text\n",
      "MultinomialNB CountVectorizer remove_special_chars,remove_stopwords\n",
      "MultinomialNB CountVectorizer remove_special_chars,lemmatize_text\n",
      "MultinomialNB CountVectorizer remove_stopwords,lemmatize_text\n",
      "MultinomialNB CountVectorizer clean_text,remove_special_chars,remove_stopwords\n",
      "MultinomialNB CountVectorizer clean_text,remove_special_chars,lemmatize_text\n",
      "MultinomialNB CountVectorizer clean_text,remove_stopwords,lemmatize_text\n",
      "MultinomialNB CountVectorizer remove_special_chars,remove_stopwords,lemmatize_text\n",
      "MultinomialNB CountVectorizer clean_text,remove_special_chars,remove_stopwords,lemmatize_text\n",
      "MultinomialNB TfidfVectorizer clean_text\n",
      "MultinomialNB TfidfVectorizer remove_special_chars\n",
      "MultinomialNB TfidfVectorizer remove_stopwords\n",
      "MultinomialNB TfidfVectorizer lemmatize_text\n",
      "MultinomialNB TfidfVectorizer clean_text,remove_special_chars\n",
      "MultinomialNB TfidfVectorizer clean_text,remove_stopwords\n",
      "MultinomialNB TfidfVectorizer clean_text,lemmatize_text\n",
      "MultinomialNB TfidfVectorizer remove_special_chars,remove_stopwords\n",
      "MultinomialNB TfidfVectorizer remove_special_chars,lemmatize_text\n",
      "MultinomialNB TfidfVectorizer remove_stopwords,lemmatize_text\n",
      "MultinomialNB TfidfVectorizer clean_text,remove_special_chars,remove_stopwords\n",
      "MultinomialNB TfidfVectorizer clean_text,remove_special_chars,lemmatize_text\n",
      "MultinomialNB TfidfVectorizer clean_text,remove_stopwords,lemmatize_text\n",
      "MultinomialNB TfidfVectorizer remove_special_chars,remove_stopwords,lemmatize_text\n",
      "MultinomialNB TfidfVectorizer clean_text,remove_special_chars,remove_stopwords,lemmatize_text\n",
      "ComplementNB CountVectorizer clean_text\n",
      "ComplementNB CountVectorizer remove_special_chars\n",
      "ComplementNB CountVectorizer remove_stopwords\n",
      "ComplementNB CountVectorizer lemmatize_text\n",
      "ComplementNB CountVectorizer clean_text,remove_special_chars\n",
      "ComplementNB CountVectorizer clean_text,remove_stopwords\n",
      "ComplementNB CountVectorizer clean_text,lemmatize_text\n",
      "ComplementNB CountVectorizer remove_special_chars,remove_stopwords\n",
      "ComplementNB CountVectorizer remove_special_chars,lemmatize_text\n",
      "ComplementNB CountVectorizer remove_stopwords,lemmatize_text\n",
      "ComplementNB CountVectorizer clean_text,remove_special_chars,remove_stopwords\n",
      "ComplementNB CountVectorizer clean_text,remove_special_chars,lemmatize_text\n",
      "ComplementNB CountVectorizer clean_text,remove_stopwords,lemmatize_text\n",
      "ComplementNB CountVectorizer remove_special_chars,remove_stopwords,lemmatize_text\n",
      "ComplementNB CountVectorizer clean_text,remove_special_chars,remove_stopwords,lemmatize_text\n",
      "ComplementNB TfidfVectorizer clean_text\n",
      "ComplementNB TfidfVectorizer remove_special_chars\n",
      "ComplementNB TfidfVectorizer remove_stopwords\n",
      "ComplementNB TfidfVectorizer lemmatize_text\n",
      "ComplementNB TfidfVectorizer clean_text,remove_special_chars\n",
      "ComplementNB TfidfVectorizer clean_text,remove_stopwords\n",
      "ComplementNB TfidfVectorizer clean_text,lemmatize_text\n",
      "ComplementNB TfidfVectorizer remove_special_chars,remove_stopwords\n",
      "ComplementNB TfidfVectorizer remove_special_chars,lemmatize_text\n",
      "ComplementNB TfidfVectorizer remove_stopwords,lemmatize_text\n",
      "ComplementNB TfidfVectorizer clean_text,remove_special_chars,remove_stopwords\n",
      "ComplementNB TfidfVectorizer clean_text,remove_special_chars,lemmatize_text\n",
      "ComplementNB TfidfVectorizer clean_text,remove_stopwords,lemmatize_text\n",
      "ComplementNB TfidfVectorizer remove_special_chars,remove_stopwords,lemmatize_text\n",
      "ComplementNB TfidfVectorizer clean_text,remove_special_chars,remove_stopwords,lemmatize_text\n",
      "LogisticRegression CountVectorizer clean_text\n",
      "LogisticRegression CountVectorizer remove_special_chars\n",
      "LogisticRegression CountVectorizer remove_stopwords\n",
      "LogisticRegression CountVectorizer lemmatize_text\n",
      "LogisticRegression CountVectorizer clean_text,remove_special_chars\n",
      "LogisticRegression CountVectorizer clean_text,remove_stopwords\n",
      "LogisticRegression CountVectorizer clean_text,lemmatize_text\n",
      "LogisticRegression CountVectorizer remove_special_chars,remove_stopwords\n",
      "LogisticRegression CountVectorizer remove_special_chars,lemmatize_text\n",
      "LogisticRegression CountVectorizer remove_stopwords,lemmatize_text\n",
      "LogisticRegression CountVectorizer clean_text,remove_special_chars,remove_stopwords\n",
      "LogisticRegression CountVectorizer clean_text,remove_special_chars,lemmatize_text\n",
      "LogisticRegression CountVectorizer clean_text,remove_stopwords,lemmatize_text\n",
      "LogisticRegression CountVectorizer remove_special_chars,remove_stopwords,lemmatize_text\n",
      "LogisticRegression CountVectorizer clean_text,remove_special_chars,remove_stopwords,lemmatize_text\n",
      "LogisticRegression TfidfVectorizer clean_text\n",
      "LogisticRegression TfidfVectorizer remove_special_chars\n",
      "LogisticRegression TfidfVectorizer remove_stopwords\n",
      "LogisticRegression TfidfVectorizer lemmatize_text\n",
      "LogisticRegression TfidfVectorizer clean_text,remove_special_chars\n",
      "LogisticRegression TfidfVectorizer clean_text,remove_stopwords\n",
      "LogisticRegression TfidfVectorizer clean_text,lemmatize_text\n",
      "LogisticRegression TfidfVectorizer remove_special_chars,remove_stopwords\n",
      "LogisticRegression TfidfVectorizer remove_special_chars,lemmatize_text\n",
      "LogisticRegression TfidfVectorizer remove_stopwords,lemmatize_text\n",
      "LogisticRegression TfidfVectorizer clean_text,remove_special_chars,remove_stopwords\n",
      "LogisticRegression TfidfVectorizer clean_text,remove_special_chars,lemmatize_text\n",
      "LogisticRegression TfidfVectorizer clean_text,remove_stopwords,lemmatize_text\n",
      "LogisticRegression TfidfVectorizer remove_special_chars,remove_stopwords,lemmatize_text\n",
      "LogisticRegression TfidfVectorizer clean_text,remove_special_chars,remove_stopwords,lemmatize_text\n"
     ]
    }
   ],
   "source": [
    "for name, model in models.items():\n",
    "    for vec_name, vectorizer in vectorizers.items():\n",
    "        for comb_name, data in combinations.items():\n",
    "          result_name = f\"{name}, {vec_name}, {comb_name}\"  \n",
    "          print(result_name)\n",
    "\n",
    "          vec_data = vectorizer.fit_transform(data['text'])\n",
    "          X_train, X_test, y_train, y_test = train_test_split(vec_data, data['class'], test_size=0.3, random_state=42)\n",
    "       \n",
    "          model.fit(X_train, y_train)\n",
    "\n",
    "          y_pred = model.predict(X_test)\n",
    "          y_pred_train = model.predict(X_train)\n",
    "\n",
    "          test_accuracy = accuracy_score(y_test, y_pred)\n",
    "          train_accuracy = accuracy_score(y_train, y_pred_train)\n",
    "\n",
    "          cross_score = cross_val_score(model, vec_data, data['class'], cv=5)\n",
    "\n",
    "          results[result_name] = {\n",
    "                \"Diff\": np.round(train_accuracy - test_accuracy, decimals=3),\n",
    "                \"Train Accuracy\": np.round(train_accuracy, decimals=3),\n",
    "                \"Test Accuracy\": np.round(test_accuracy, decimals=3),\n",
    "                \"Cross Validation Score\": np.round(np.mean(cross_score), decimals=3),\n",
    "                \"Fabi Score\": np.round(2 * test_accuracy - train_accuracy, decimals=3)\n",
    "          }\n"
   ]
  },
  {
   "cell_type": "code",
   "execution_count": 23,
   "id": "rZ3Qywl2V-A7",
   "metadata": {
    "id": "rZ3Qywl2V-A7",
    "colab": {
     "base_uri": "https://localhost:8080/",
     "height": 528
    },
    "executionInfo": {
     "status": "ok",
     "timestamp": 1727987202836,
     "user_tz": -120,
     "elapsed": 290,
     "user": {
      "displayName": "Fabian Hieber",
      "userId": "06681858431281640040"
     }
    },
    "outputId": "a7ef3e84-87e5-4661-fa44-c71b68d2d2b5"
   },
   "outputs": [
    {
     "output_type": "execute_result",
     "data": {
      "text/plain": [
       "                                                     Diff  Train Accuracy  \\\n",
       "LogisticRegression, TfidfVectorizer, clean_text     0.012           0.953   \n",
       "LogisticRegression, TfidfVectorizer, clean_text...  0.012           0.953   \n",
       "LogisticRegression, TfidfVectorizer, lemmatize_...  0.012           0.953   \n",
       "ComplementNB, TfidfVectorizer, clean_text,remov...  0.004           0.935   \n",
       "ComplementNB, TfidfVectorizer, clean_text           0.005           0.937   \n",
       "...                                                   ...             ...   \n",
       "LogisticRegression, CountVectorizer, clean_text...  0.055           0.999   \n",
       "LogisticRegression, CountVectorizer, remove_spe...  0.055           0.999   \n",
       "LogisticRegression, CountVectorizer, remove_sto...  0.055           0.999   \n",
       "LogisticRegression, CountVectorizer, remove_spe...  0.055           0.999   \n",
       "LogisticRegression, CountVectorizer, clean_text...  0.056           0.999   \n",
       "\n",
       "                                                    Test Accuracy  \\\n",
       "LogisticRegression, TfidfVectorizer, clean_text             0.941   \n",
       "LogisticRegression, TfidfVectorizer, clean_text...          0.941   \n",
       "LogisticRegression, TfidfVectorizer, lemmatize_...          0.941   \n",
       "ComplementNB, TfidfVectorizer, clean_text,remov...          0.931   \n",
       "ComplementNB, TfidfVectorizer, clean_text                   0.932   \n",
       "...                                                           ...   \n",
       "LogisticRegression, CountVectorizer, clean_text...          0.944   \n",
       "LogisticRegression, CountVectorizer, remove_spe...          0.943   \n",
       "LogisticRegression, CountVectorizer, remove_sto...          0.944   \n",
       "LogisticRegression, CountVectorizer, remove_spe...          0.943   \n",
       "LogisticRegression, CountVectorizer, clean_text...          0.943   \n",
       "\n",
       "                                                    Cross Validation Score  \\\n",
       "LogisticRegression, TfidfVectorizer, clean_text                      0.915   \n",
       "LogisticRegression, TfidfVectorizer, clean_text...                   0.915   \n",
       "LogisticRegression, TfidfVectorizer, lemmatize_...                   0.915   \n",
       "ComplementNB, TfidfVectorizer, clean_text,remov...                   0.908   \n",
       "ComplementNB, TfidfVectorizer, clean_text                            0.909   \n",
       "...                                                                    ...   \n",
       "LogisticRegression, CountVectorizer, clean_text...                   0.908   \n",
       "LogisticRegression, CountVectorizer, remove_spe...                   0.907   \n",
       "LogisticRegression, CountVectorizer, remove_sto...                   0.908   \n",
       "LogisticRegression, CountVectorizer, remove_spe...                   0.906   \n",
       "LogisticRegression, CountVectorizer, clean_text...                   0.907   \n",
       "\n",
       "                                                    Fabi Score  \n",
       "LogisticRegression, TfidfVectorizer, clean_text          0.930  \n",
       "LogisticRegression, TfidfVectorizer, clean_text...       0.930  \n",
       "LogisticRegression, TfidfVectorizer, lemmatize_...       0.929  \n",
       "ComplementNB, TfidfVectorizer, clean_text,remov...       0.927  \n",
       "ComplementNB, TfidfVectorizer, clean_text                0.927  \n",
       "...                                                        ...  \n",
       "LogisticRegression, CountVectorizer, clean_text...       0.889  \n",
       "LogisticRegression, CountVectorizer, remove_spe...       0.888  \n",
       "LogisticRegression, CountVectorizer, remove_sto...       0.888  \n",
       "LogisticRegression, CountVectorizer, remove_spe...       0.888  \n",
       "LogisticRegression, CountVectorizer, clean_text...       0.887  \n",
       "\n",
       "[90 rows x 5 columns]"
      ],
      "text/html": [
       "\n",
       "  <div id=\"df-ae209302-4008-428a-9532-98c90a39b7b9\" class=\"colab-df-container\">\n",
       "    <div>\n",
       "<style scoped>\n",
       "    .dataframe tbody tr th:only-of-type {\n",
       "        vertical-align: middle;\n",
       "    }\n",
       "\n",
       "    .dataframe tbody tr th {\n",
       "        vertical-align: top;\n",
       "    }\n",
       "\n",
       "    .dataframe thead th {\n",
       "        text-align: right;\n",
       "    }\n",
       "</style>\n",
       "<table border=\"1\" class=\"dataframe\">\n",
       "  <thead>\n",
       "    <tr style=\"text-align: right;\">\n",
       "      <th></th>\n",
       "      <th>Diff</th>\n",
       "      <th>Train Accuracy</th>\n",
       "      <th>Test Accuracy</th>\n",
       "      <th>Cross Validation Score</th>\n",
       "      <th>Fabi Score</th>\n",
       "    </tr>\n",
       "  </thead>\n",
       "  <tbody>\n",
       "    <tr>\n",
       "      <th>LogisticRegression, TfidfVectorizer, clean_text</th>\n",
       "      <td>0.012</td>\n",
       "      <td>0.953</td>\n",
       "      <td>0.941</td>\n",
       "      <td>0.915</td>\n",
       "      <td>0.930</td>\n",
       "    </tr>\n",
       "    <tr>\n",
       "      <th>LogisticRegression, TfidfVectorizer, clean_text,lemmatize_text</th>\n",
       "      <td>0.012</td>\n",
       "      <td>0.953</td>\n",
       "      <td>0.941</td>\n",
       "      <td>0.915</td>\n",
       "      <td>0.930</td>\n",
       "    </tr>\n",
       "    <tr>\n",
       "      <th>LogisticRegression, TfidfVectorizer, lemmatize_text</th>\n",
       "      <td>0.012</td>\n",
       "      <td>0.953</td>\n",
       "      <td>0.941</td>\n",
       "      <td>0.915</td>\n",
       "      <td>0.929</td>\n",
       "    </tr>\n",
       "    <tr>\n",
       "      <th>ComplementNB, TfidfVectorizer, clean_text,remove_special_chars</th>\n",
       "      <td>0.004</td>\n",
       "      <td>0.935</td>\n",
       "      <td>0.931</td>\n",
       "      <td>0.908</td>\n",
       "      <td>0.927</td>\n",
       "    </tr>\n",
       "    <tr>\n",
       "      <th>ComplementNB, TfidfVectorizer, clean_text</th>\n",
       "      <td>0.005</td>\n",
       "      <td>0.937</td>\n",
       "      <td>0.932</td>\n",
       "      <td>0.909</td>\n",
       "      <td>0.927</td>\n",
       "    </tr>\n",
       "    <tr>\n",
       "      <th>...</th>\n",
       "      <td>...</td>\n",
       "      <td>...</td>\n",
       "      <td>...</td>\n",
       "      <td>...</td>\n",
       "      <td>...</td>\n",
       "    </tr>\n",
       "    <tr>\n",
       "      <th>LogisticRegression, CountVectorizer, clean_text,remove_stopwords,lemmatize_text</th>\n",
       "      <td>0.055</td>\n",
       "      <td>0.999</td>\n",
       "      <td>0.944</td>\n",
       "      <td>0.908</td>\n",
       "      <td>0.889</td>\n",
       "    </tr>\n",
       "    <tr>\n",
       "      <th>LogisticRegression, CountVectorizer, remove_special_chars,remove_stopwords</th>\n",
       "      <td>0.055</td>\n",
       "      <td>0.999</td>\n",
       "      <td>0.943</td>\n",
       "      <td>0.907</td>\n",
       "      <td>0.888</td>\n",
       "    </tr>\n",
       "    <tr>\n",
       "      <th>LogisticRegression, CountVectorizer, remove_stopwords,lemmatize_text</th>\n",
       "      <td>0.055</td>\n",
       "      <td>0.999</td>\n",
       "      <td>0.944</td>\n",
       "      <td>0.908</td>\n",
       "      <td>0.888</td>\n",
       "    </tr>\n",
       "    <tr>\n",
       "      <th>LogisticRegression, CountVectorizer, remove_special_chars,remove_stopwords,lemmatize_text</th>\n",
       "      <td>0.055</td>\n",
       "      <td>0.999</td>\n",
       "      <td>0.943</td>\n",
       "      <td>0.906</td>\n",
       "      <td>0.888</td>\n",
       "    </tr>\n",
       "    <tr>\n",
       "      <th>LogisticRegression, CountVectorizer, clean_text,remove_special_chars,remove_stopwords,lemmatize_text</th>\n",
       "      <td>0.056</td>\n",
       "      <td>0.999</td>\n",
       "      <td>0.943</td>\n",
       "      <td>0.907</td>\n",
       "      <td>0.887</td>\n",
       "    </tr>\n",
       "  </tbody>\n",
       "</table>\n",
       "<p>90 rows × 5 columns</p>\n",
       "</div>\n",
       "    <div class=\"colab-df-buttons\">\n",
       "\n",
       "  <div class=\"colab-df-container\">\n",
       "    <button class=\"colab-df-convert\" onclick=\"convertToInteractive('df-ae209302-4008-428a-9532-98c90a39b7b9')\"\n",
       "            title=\"Convert this dataframe to an interactive table.\"\n",
       "            style=\"display:none;\">\n",
       "\n",
       "  <svg xmlns=\"http://www.w3.org/2000/svg\" height=\"24px\" viewBox=\"0 -960 960 960\">\n",
       "    <path d=\"M120-120v-720h720v720H120Zm60-500h600v-160H180v160Zm220 220h160v-160H400v160Zm0 220h160v-160H400v160ZM180-400h160v-160H180v160Zm440 0h160v-160H620v160ZM180-180h160v-160H180v160Zm440 0h160v-160H620v160Z\"/>\n",
       "  </svg>\n",
       "    </button>\n",
       "\n",
       "  <style>\n",
       "    .colab-df-container {\n",
       "      display:flex;\n",
       "      gap: 12px;\n",
       "    }\n",
       "\n",
       "    .colab-df-convert {\n",
       "      background-color: #E8F0FE;\n",
       "      border: none;\n",
       "      border-radius: 50%;\n",
       "      cursor: pointer;\n",
       "      display: none;\n",
       "      fill: #1967D2;\n",
       "      height: 32px;\n",
       "      padding: 0 0 0 0;\n",
       "      width: 32px;\n",
       "    }\n",
       "\n",
       "    .colab-df-convert:hover {\n",
       "      background-color: #E2EBFA;\n",
       "      box-shadow: 0px 1px 2px rgba(60, 64, 67, 0.3), 0px 1px 3px 1px rgba(60, 64, 67, 0.15);\n",
       "      fill: #174EA6;\n",
       "    }\n",
       "\n",
       "    .colab-df-buttons div {\n",
       "      margin-bottom: 4px;\n",
       "    }\n",
       "\n",
       "    [theme=dark] .colab-df-convert {\n",
       "      background-color: #3B4455;\n",
       "      fill: #D2E3FC;\n",
       "    }\n",
       "\n",
       "    [theme=dark] .colab-df-convert:hover {\n",
       "      background-color: #434B5C;\n",
       "      box-shadow: 0px 1px 3px 1px rgba(0, 0, 0, 0.15);\n",
       "      filter: drop-shadow(0px 1px 2px rgba(0, 0, 0, 0.3));\n",
       "      fill: #FFFFFF;\n",
       "    }\n",
       "  </style>\n",
       "\n",
       "    <script>\n",
       "      const buttonEl =\n",
       "        document.querySelector('#df-ae209302-4008-428a-9532-98c90a39b7b9 button.colab-df-convert');\n",
       "      buttonEl.style.display =\n",
       "        google.colab.kernel.accessAllowed ? 'block' : 'none';\n",
       "\n",
       "      async function convertToInteractive(key) {\n",
       "        const element = document.querySelector('#df-ae209302-4008-428a-9532-98c90a39b7b9');\n",
       "        const dataTable =\n",
       "          await google.colab.kernel.invokeFunction('convertToInteractive',\n",
       "                                                    [key], {});\n",
       "        if (!dataTable) return;\n",
       "\n",
       "        const docLinkHtml = 'Like what you see? Visit the ' +\n",
       "          '<a target=\"_blank\" href=https://colab.research.google.com/notebooks/data_table.ipynb>data table notebook</a>'\n",
       "          + ' to learn more about interactive tables.';\n",
       "        element.innerHTML = '';\n",
       "        dataTable['output_type'] = 'display_data';\n",
       "        await google.colab.output.renderOutput(dataTable, element);\n",
       "        const docLink = document.createElement('div');\n",
       "        docLink.innerHTML = docLinkHtml;\n",
       "        element.appendChild(docLink);\n",
       "      }\n",
       "    </script>\n",
       "  </div>\n",
       "\n",
       "\n",
       "<div id=\"df-479dcfc2-54e0-40d5-812c-3f3172f9f09f\">\n",
       "  <button class=\"colab-df-quickchart\" onclick=\"quickchart('df-479dcfc2-54e0-40d5-812c-3f3172f9f09f')\"\n",
       "            title=\"Suggest charts\"\n",
       "            style=\"display:none;\">\n",
       "\n",
       "<svg xmlns=\"http://www.w3.org/2000/svg\" height=\"24px\"viewBox=\"0 0 24 24\"\n",
       "     width=\"24px\">\n",
       "    <g>\n",
       "        <path d=\"M19 3H5c-1.1 0-2 .9-2 2v14c0 1.1.9 2 2 2h14c1.1 0 2-.9 2-2V5c0-1.1-.9-2-2-2zM9 17H7v-7h2v7zm4 0h-2V7h2v10zm4 0h-2v-4h2v4z\"/>\n",
       "    </g>\n",
       "</svg>\n",
       "  </button>\n",
       "\n",
       "<style>\n",
       "  .colab-df-quickchart {\n",
       "      --bg-color: #E8F0FE;\n",
       "      --fill-color: #1967D2;\n",
       "      --hover-bg-color: #E2EBFA;\n",
       "      --hover-fill-color: #174EA6;\n",
       "      --disabled-fill-color: #AAA;\n",
       "      --disabled-bg-color: #DDD;\n",
       "  }\n",
       "\n",
       "  [theme=dark] .colab-df-quickchart {\n",
       "      --bg-color: #3B4455;\n",
       "      --fill-color: #D2E3FC;\n",
       "      --hover-bg-color: #434B5C;\n",
       "      --hover-fill-color: #FFFFFF;\n",
       "      --disabled-bg-color: #3B4455;\n",
       "      --disabled-fill-color: #666;\n",
       "  }\n",
       "\n",
       "  .colab-df-quickchart {\n",
       "    background-color: var(--bg-color);\n",
       "    border: none;\n",
       "    border-radius: 50%;\n",
       "    cursor: pointer;\n",
       "    display: none;\n",
       "    fill: var(--fill-color);\n",
       "    height: 32px;\n",
       "    padding: 0;\n",
       "    width: 32px;\n",
       "  }\n",
       "\n",
       "  .colab-df-quickchart:hover {\n",
       "    background-color: var(--hover-bg-color);\n",
       "    box-shadow: 0 1px 2px rgba(60, 64, 67, 0.3), 0 1px 3px 1px rgba(60, 64, 67, 0.15);\n",
       "    fill: var(--button-hover-fill-color);\n",
       "  }\n",
       "\n",
       "  .colab-df-quickchart-complete:disabled,\n",
       "  .colab-df-quickchart-complete:disabled:hover {\n",
       "    background-color: var(--disabled-bg-color);\n",
       "    fill: var(--disabled-fill-color);\n",
       "    box-shadow: none;\n",
       "  }\n",
       "\n",
       "  .colab-df-spinner {\n",
       "    border: 2px solid var(--fill-color);\n",
       "    border-color: transparent;\n",
       "    border-bottom-color: var(--fill-color);\n",
       "    animation:\n",
       "      spin 1s steps(1) infinite;\n",
       "  }\n",
       "\n",
       "  @keyframes spin {\n",
       "    0% {\n",
       "      border-color: transparent;\n",
       "      border-bottom-color: var(--fill-color);\n",
       "      border-left-color: var(--fill-color);\n",
       "    }\n",
       "    20% {\n",
       "      border-color: transparent;\n",
       "      border-left-color: var(--fill-color);\n",
       "      border-top-color: var(--fill-color);\n",
       "    }\n",
       "    30% {\n",
       "      border-color: transparent;\n",
       "      border-left-color: var(--fill-color);\n",
       "      border-top-color: var(--fill-color);\n",
       "      border-right-color: var(--fill-color);\n",
       "    }\n",
       "    40% {\n",
       "      border-color: transparent;\n",
       "      border-right-color: var(--fill-color);\n",
       "      border-top-color: var(--fill-color);\n",
       "    }\n",
       "    60% {\n",
       "      border-color: transparent;\n",
       "      border-right-color: var(--fill-color);\n",
       "    }\n",
       "    80% {\n",
       "      border-color: transparent;\n",
       "      border-right-color: var(--fill-color);\n",
       "      border-bottom-color: var(--fill-color);\n",
       "    }\n",
       "    90% {\n",
       "      border-color: transparent;\n",
       "      border-bottom-color: var(--fill-color);\n",
       "    }\n",
       "  }\n",
       "</style>\n",
       "\n",
       "  <script>\n",
       "    async function quickchart(key) {\n",
       "      const quickchartButtonEl =\n",
       "        document.querySelector('#' + key + ' button');\n",
       "      quickchartButtonEl.disabled = true;  // To prevent multiple clicks.\n",
       "      quickchartButtonEl.classList.add('colab-df-spinner');\n",
       "      try {\n",
       "        const charts = await google.colab.kernel.invokeFunction(\n",
       "            'suggestCharts', [key], {});\n",
       "      } catch (error) {\n",
       "        console.error('Error during call to suggestCharts:', error);\n",
       "      }\n",
       "      quickchartButtonEl.classList.remove('colab-df-spinner');\n",
       "      quickchartButtonEl.classList.add('colab-df-quickchart-complete');\n",
       "    }\n",
       "    (() => {\n",
       "      let quickchartButtonEl =\n",
       "        document.querySelector('#df-479dcfc2-54e0-40d5-812c-3f3172f9f09f button');\n",
       "      quickchartButtonEl.style.display =\n",
       "        google.colab.kernel.accessAllowed ? 'block' : 'none';\n",
       "    })();\n",
       "  </script>\n",
       "</div>\n",
       "\n",
       "    </div>\n",
       "  </div>\n"
      ],
      "application/vnd.google.colaboratory.intrinsic+json": {
       "type": "dataframe",
       "summary": "{\n  \"name\": \"results_df\",\n  \"rows\": 90,\n  \"fields\": [\n    {\n      \"column\": \"Diff\",\n      \"properties\": {\n        \"dtype\": \"number\",\n        \"std\": 0.018522412782380676,\n        \"min\": 0.004,\n        \"max\": 0.056,\n        \"num_unique_values\": 27,\n        \"samples\": [\n          0.015,\n          0.038,\n          0.009\n        ],\n        \"semantic_type\": \"\",\n        \"description\": \"\"\n      }\n    },\n    {\n      \"column\": \"Train Accuracy\",\n      \"properties\": {\n        \"dtype\": \"number\",\n        \"std\": 0.027047396786176348,\n        \"min\": 0.93,\n        \"max\": 0.999,\n        \"num_unique_values\": 21,\n        \"samples\": [\n          0.953,\n          0.987,\n          0.932\n        ],\n        \"semantic_type\": \"\",\n        \"description\": \"\"\n      }\n    },\n    {\n      \"column\": \"Test Accuracy\",\n      \"properties\": {\n        \"dtype\": \"number\",\n        \"std\": 0.009604026673201963,\n        \"min\": 0.918,\n        \"max\": 0.949,\n        \"num_unique_values\": 23,\n        \"samples\": [\n          0.947,\n          0.924,\n          0.941\n        ],\n        \"semantic_type\": \"\",\n        \"description\": \"\"\n      }\n    },\n    {\n      \"column\": \"Cross Validation Score\",\n      \"properties\": {\n        \"dtype\": \"number\",\n        \"std\": 0.0092188267443218,\n        \"min\": 0.894,\n        \"max\": 0.925,\n        \"num_unique_values\": 23,\n        \"samples\": [\n          0.923,\n          0.9,\n          0.915\n        ],\n        \"semantic_type\": \"\",\n        \"description\": \"\"\n      }\n    },\n    {\n      \"column\": \"Fabi Score\",\n      \"properties\": {\n        \"dtype\": \"number\",\n        \"std\": 0.012119236985825555,\n        \"min\": 0.887,\n        \"max\": 0.93,\n        \"num_unique_values\": 38,\n        \"samples\": [\n          0.893,\n          0.888,\n          0.925\n        ],\n        \"semantic_type\": \"\",\n        \"description\": \"\"\n      }\n    }\n  ]\n}"
      }
     },
     "metadata": {},
     "execution_count": 23
    }
   ],
   "source": [
    "results_df = pd.DataFrame(results).T\n",
    "results_df.sort_values(by=['Fabi Score', 'Diff'], ascending=[False, True])"
   ]
  }
 ],
 "metadata": {
  "colab": {
   "machine_shape": "hm",
   "provenance": []
  },
  "kernelspec": {
   "display_name": "Python 3",
   "name": "python3"
  },
  "language_info": {
   "codemirror_mode": {
    "name": "ipython",
    "version": 2
   },
   "file_extension": ".py",
   "mimetype": "text/x-python",
   "name": "python",
   "nbconvert_exporter": "python",
   "pygments_lexer": "ipython2",
   "version": "2.7.6"
  }
 },
 "nbformat": 4,
 "nbformat_minor": 5
}
